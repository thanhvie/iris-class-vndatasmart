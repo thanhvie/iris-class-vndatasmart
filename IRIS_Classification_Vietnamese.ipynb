{
  "cells": [
    {
      "cell_type": "markdown",
      "metadata": {
        "id": "YHrzViQF7ssI"
      },
      "source": [
        "Kỹ thuật học máy có giám sát là việc huấn luyện mô hình dựa trên một tập hợp các tính năng (features) và dự đoán nhãn (label) bằng cách sử dụng tập dữ liệu có chứa các giá trị nhãn đã biết. Bạn có thể nghĩ về hàm này như thế này: \n",
        "y = f([x1,x2,x3])\n",
        "\n",
        "Trong đó y đại diện cho nhãn mà chúng ta muốn dự đoán và X đại diện cho vectơ của các đặc trưng mà mô hình sử dụng để dự đoán nó.\n",
        "\n",
        "Phân loại (classification) là một mô hình học máy có giám sát, trong đó bạn đào tạo một mô hình sử dụng các tính năng (các giá trị x) để dự đoán một nhãn (y) bằng cách tính toán xác suất có thể có của từng nhãn và dự đoán một nhãn thích hợp dựa trên giá trị xác suất. Hình thức phân loại đơn giản nhất là phân loại nhị phân (binary), trong đó nhãn là 0 hoặc 1, \"Đúng\" hoặc \"Sai\"; \"Có lợi nhuận\" hoặc \"Không có lợi nhuận\"...\n",
        "\n",
        "Trong bài viết này, tôi sẽ sử dụng kĩ thuật phân loại đa lớp (multiclass classfication) để phân biệt 3 loại hoa diên vĩ khác nhau dựa trên 4 đặc trưng: chiều dài cánh hoa (petal length), chiều rộng cánh hoa (petal width), chiều dài đài hoa (sepal length) và chiều rộng đài hoa (sepal width)."
      ]
    },
    {
      "cell_type": "markdown",
      "metadata": {
        "id": "xycaGlsp-Yrs"
      },
      "source": [
        "Sử dụng thư viện pandas và numpy "
      ]
    },
    {
      "cell_type": "code",
      "execution_count": 29,
      "metadata": {
        "id": "LKSKxujn7pi6"
      },
      "outputs": [],
      "source": [
        "import pandas as pd\n",
        "import numpy as np"
      ]
    },
    {
      "cell_type": "markdown",
      "metadata": {
        "id": "MDsqsLs7-kuW"
      },
      "source": [
        "Tải bảng dữ liệu và in ra 5 dòng đầu tiên của bảng\n"
      ]
    },
    {
      "cell_type": "code",
      "execution_count": 30,
      "metadata": {
        "colab": {
          "base_uri": "https://localhost:8080/",
          "height": 206
        },
        "id": "6Izf24go8vA6",
        "outputId": "14048035-36e8-4f85-994a-8bf22b9f0f60"
      },
      "outputs": [
        {
          "data": {
            "text/html": [
              "\n",
              "  <div id=\"df-1e180044-bd4c-4706-973c-9930cae97787\">\n",
              "    <div class=\"colab-df-container\">\n",
              "      <div>\n",
              "<style scoped>\n",
              "    .dataframe tbody tr th:only-of-type {\n",
              "        vertical-align: middle;\n",
              "    }\n",
              "\n",
              "    .dataframe tbody tr th {\n",
              "        vertical-align: top;\n",
              "    }\n",
              "\n",
              "    .dataframe thead th {\n",
              "        text-align: right;\n",
              "    }\n",
              "</style>\n",
              "<table border=\"1\" class=\"dataframe\">\n",
              "  <thead>\n",
              "    <tr style=\"text-align: right;\">\n",
              "      <th></th>\n",
              "      <th>sepal.length</th>\n",
              "      <th>sepal.width</th>\n",
              "      <th>petal.length</th>\n",
              "      <th>petal.width</th>\n",
              "      <th>variety</th>\n",
              "    </tr>\n",
              "  </thead>\n",
              "  <tbody>\n",
              "    <tr>\n",
              "      <th>0</th>\n",
              "      <td>5.1</td>\n",
              "      <td>3.5</td>\n",
              "      <td>1.4</td>\n",
              "      <td>0.2</td>\n",
              "      <td>Setosa</td>\n",
              "    </tr>\n",
              "    <tr>\n",
              "      <th>1</th>\n",
              "      <td>4.9</td>\n",
              "      <td>3.0</td>\n",
              "      <td>1.4</td>\n",
              "      <td>0.2</td>\n",
              "      <td>Setosa</td>\n",
              "    </tr>\n",
              "    <tr>\n",
              "      <th>2</th>\n",
              "      <td>4.7</td>\n",
              "      <td>3.2</td>\n",
              "      <td>1.3</td>\n",
              "      <td>0.2</td>\n",
              "      <td>Setosa</td>\n",
              "    </tr>\n",
              "    <tr>\n",
              "      <th>3</th>\n",
              "      <td>4.6</td>\n",
              "      <td>3.1</td>\n",
              "      <td>1.5</td>\n",
              "      <td>0.2</td>\n",
              "      <td>Setosa</td>\n",
              "    </tr>\n",
              "    <tr>\n",
              "      <th>4</th>\n",
              "      <td>5.0</td>\n",
              "      <td>3.6</td>\n",
              "      <td>1.4</td>\n",
              "      <td>0.2</td>\n",
              "      <td>Setosa</td>\n",
              "    </tr>\n",
              "  </tbody>\n",
              "</table>\n",
              "</div>\n",
              "      <button class=\"colab-df-convert\" onclick=\"convertToInteractive('df-1e180044-bd4c-4706-973c-9930cae97787')\"\n",
              "              title=\"Convert this dataframe to an interactive table.\"\n",
              "              style=\"display:none;\">\n",
              "        \n",
              "  <svg xmlns=\"http://www.w3.org/2000/svg\" height=\"24px\"viewBox=\"0 0 24 24\"\n",
              "       width=\"24px\">\n",
              "    <path d=\"M0 0h24v24H0V0z\" fill=\"none\"/>\n",
              "    <path d=\"M18.56 5.44l.94 2.06.94-2.06 2.06-.94-2.06-.94-.94-2.06-.94 2.06-2.06.94zm-11 1L8.5 8.5l.94-2.06 2.06-.94-2.06-.94L8.5 2.5l-.94 2.06-2.06.94zm10 10l.94 2.06.94-2.06 2.06-.94-2.06-.94-.94-2.06-.94 2.06-2.06.94z\"/><path d=\"M17.41 7.96l-1.37-1.37c-.4-.4-.92-.59-1.43-.59-.52 0-1.04.2-1.43.59L10.3 9.45l-7.72 7.72c-.78.78-.78 2.05 0 2.83L4 21.41c.39.39.9.59 1.41.59.51 0 1.02-.2 1.41-.59l7.78-7.78 2.81-2.81c.8-.78.8-2.07 0-2.86zM5.41 20L4 18.59l7.72-7.72 1.47 1.35L5.41 20z\"/>\n",
              "  </svg>\n",
              "      </button>\n",
              "      \n",
              "  <style>\n",
              "    .colab-df-container {\n",
              "      display:flex;\n",
              "      flex-wrap:wrap;\n",
              "      gap: 12px;\n",
              "    }\n",
              "\n",
              "    .colab-df-convert {\n",
              "      background-color: #E8F0FE;\n",
              "      border: none;\n",
              "      border-radius: 50%;\n",
              "      cursor: pointer;\n",
              "      display: none;\n",
              "      fill: #1967D2;\n",
              "      height: 32px;\n",
              "      padding: 0 0 0 0;\n",
              "      width: 32px;\n",
              "    }\n",
              "\n",
              "    .colab-df-convert:hover {\n",
              "      background-color: #E2EBFA;\n",
              "      box-shadow: 0px 1px 2px rgba(60, 64, 67, 0.3), 0px 1px 3px 1px rgba(60, 64, 67, 0.15);\n",
              "      fill: #174EA6;\n",
              "    }\n",
              "\n",
              "    [theme=dark] .colab-df-convert {\n",
              "      background-color: #3B4455;\n",
              "      fill: #D2E3FC;\n",
              "    }\n",
              "\n",
              "    [theme=dark] .colab-df-convert:hover {\n",
              "      background-color: #434B5C;\n",
              "      box-shadow: 0px 1px 3px 1px rgba(0, 0, 0, 0.15);\n",
              "      filter: drop-shadow(0px 1px 2px rgba(0, 0, 0, 0.3));\n",
              "      fill: #FFFFFF;\n",
              "    }\n",
              "  </style>\n",
              "\n",
              "      <script>\n",
              "        const buttonEl =\n",
              "          document.querySelector('#df-1e180044-bd4c-4706-973c-9930cae97787 button.colab-df-convert');\n",
              "        buttonEl.style.display =\n",
              "          google.colab.kernel.accessAllowed ? 'block' : 'none';\n",
              "\n",
              "        async function convertToInteractive(key) {\n",
              "          const element = document.querySelector('#df-1e180044-bd4c-4706-973c-9930cae97787');\n",
              "          const dataTable =\n",
              "            await google.colab.kernel.invokeFunction('convertToInteractive',\n",
              "                                                     [key], {});\n",
              "          if (!dataTable) return;\n",
              "\n",
              "          const docLinkHtml = 'Like what you see? Visit the ' +\n",
              "            '<a target=\"_blank\" href=https://colab.research.google.com/notebooks/data_table.ipynb>data table notebook</a>'\n",
              "            + ' to learn more about interactive tables.';\n",
              "          element.innerHTML = '';\n",
              "          dataTable['output_type'] = 'display_data';\n",
              "          await google.colab.output.renderOutput(dataTable, element);\n",
              "          const docLink = document.createElement('div');\n",
              "          docLink.innerHTML = docLinkHtml;\n",
              "          element.appendChild(docLink);\n",
              "        }\n",
              "      </script>\n",
              "    </div>\n",
              "  </div>\n",
              "  "
            ],
            "text/plain": [
              "   sepal.length  sepal.width  petal.length  petal.width variety\n",
              "0           5.1          3.5           1.4          0.2  Setosa\n",
              "1           4.9          3.0           1.4          0.2  Setosa\n",
              "2           4.7          3.2           1.3          0.2  Setosa\n",
              "3           4.6          3.1           1.5          0.2  Setosa\n",
              "4           5.0          3.6           1.4          0.2  Setosa"
            ]
          },
          "execution_count": 30,
          "metadata": {},
          "output_type": "execute_result"
        }
      ],
      "source": [
        "df_iris = pd.read_csv(\"iris.csv\", delimiter=\",\",header=\"infer\")\n",
        "df_iris.head()\n"
      ]
    },
    {
      "cell_type": "markdown",
      "metadata": {
        "id": "mEKsSzOe_Sdt"
      },
      "source": [
        "*Cột* variety có chứa 3 giá trị là : Setosa, Versicolor và Virginica là tên của 3 loại khác nhau của diên vĩ. Chúng ta cần map chúng thành các giá trị số để có thể thực hiện các phép toán sau này."
      ]
    },
    {
      "cell_type": "code",
      "execution_count": 31,
      "metadata": {
        "id": "DziQmT-NB8L1"
      },
      "outputs": [],
      "source": [
        "#Khởi tạo một list iris_classes chứa tên của 3 loại hoa \n",
        "iris_classes = ['Setosa','Versicolor','Virginica']"
      ]
    },
    {
      "cell_type": "code",
      "execution_count": 32,
      "metadata": {
        "id": "IhV9DSGhCAMH"
      },
      "outputs": [],
      "source": [
        "# Mã hoá tên của 3 loại hoa với các giá trị 0 (Setosa), 1 (Versicolor) và 2 (Virginica)\n",
        "df_iris = df_iris.replace(iris_classes,[0, 1, 2])"
      ]
    },
    {
      "cell_type": "markdown",
      "metadata": {
        "id": "y6nmKh0wAF8l"
      },
      "source": [
        "Kiểm tra xem bảng dữ liệu có giá trị null hay không. Nếu có chúng ta cần phải có những bước xử lý phù hợp vì dữ liệu null sẽ gây ra nhiều vấn đề cho mô hình học máy. Với bảng dữ liệu df_iris của chúng ta đang làm thì không có giá trị rỗng nào."
      ]
    },
    {
      "cell_type": "code",
      "execution_count": 33,
      "metadata": {
        "colab": {
          "base_uri": "https://localhost:8080/"
        },
        "id": "7DmmEFBK9dMb",
        "outputId": "c0253e52-a75b-4355-da91-7a02f75d4da2"
      },
      "outputs": [
        {
          "data": {
            "text/plain": [
              "sepal.length    0\n",
              "sepal.width     0\n",
              "petal.length    0\n",
              "petal.width     0\n",
              "variety         0\n",
              "dtype: int64"
            ]
          },
          "execution_count": 33,
          "metadata": {},
          "output_type": "execute_result"
        }
      ],
      "source": [
        "df_iris.isnull().sum()"
      ]
    },
    {
      "cell_type": "markdown",
      "metadata": {
        "id": "sSK5KjrDAe-8"
      },
      "source": [
        "Sử dụng hàm describe() trong pandas để lấy được bảng thống kê cho tất cả các cột dạng số trong bảng dữ liệu."
      ]
    },
    {
      "cell_type": "code",
      "execution_count": 34,
      "metadata": {
        "colab": {
          "base_uri": "https://localhost:8080/",
          "height": 300
        },
        "id": "8FzXjEXK9rPe",
        "outputId": "c11ad380-ceca-480d-c333-fc5c39e140e6"
      },
      "outputs": [
        {
          "data": {
            "text/html": [
              "\n",
              "  <div id=\"df-e0ac04b4-dd78-4a3d-883d-a13b87050529\">\n",
              "    <div class=\"colab-df-container\">\n",
              "      <div>\n",
              "<style scoped>\n",
              "    .dataframe tbody tr th:only-of-type {\n",
              "        vertical-align: middle;\n",
              "    }\n",
              "\n",
              "    .dataframe tbody tr th {\n",
              "        vertical-align: top;\n",
              "    }\n",
              "\n",
              "    .dataframe thead th {\n",
              "        text-align: right;\n",
              "    }\n",
              "</style>\n",
              "<table border=\"1\" class=\"dataframe\">\n",
              "  <thead>\n",
              "    <tr style=\"text-align: right;\">\n",
              "      <th></th>\n",
              "      <th>sepal.length</th>\n",
              "      <th>sepal.width</th>\n",
              "      <th>petal.length</th>\n",
              "      <th>petal.width</th>\n",
              "      <th>variety</th>\n",
              "    </tr>\n",
              "  </thead>\n",
              "  <tbody>\n",
              "    <tr>\n",
              "      <th>count</th>\n",
              "      <td>150.000000</td>\n",
              "      <td>150.000000</td>\n",
              "      <td>150.000000</td>\n",
              "      <td>150.000000</td>\n",
              "      <td>150.000000</td>\n",
              "    </tr>\n",
              "    <tr>\n",
              "      <th>mean</th>\n",
              "      <td>5.843333</td>\n",
              "      <td>3.057333</td>\n",
              "      <td>3.758000</td>\n",
              "      <td>1.199333</td>\n",
              "      <td>1.000000</td>\n",
              "    </tr>\n",
              "    <tr>\n",
              "      <th>std</th>\n",
              "      <td>0.828066</td>\n",
              "      <td>0.435866</td>\n",
              "      <td>1.765298</td>\n",
              "      <td>0.762238</td>\n",
              "      <td>0.819232</td>\n",
              "    </tr>\n",
              "    <tr>\n",
              "      <th>min</th>\n",
              "      <td>4.300000</td>\n",
              "      <td>2.000000</td>\n",
              "      <td>1.000000</td>\n",
              "      <td>0.100000</td>\n",
              "      <td>0.000000</td>\n",
              "    </tr>\n",
              "    <tr>\n",
              "      <th>25%</th>\n",
              "      <td>5.100000</td>\n",
              "      <td>2.800000</td>\n",
              "      <td>1.600000</td>\n",
              "      <td>0.300000</td>\n",
              "      <td>0.000000</td>\n",
              "    </tr>\n",
              "    <tr>\n",
              "      <th>50%</th>\n",
              "      <td>5.800000</td>\n",
              "      <td>3.000000</td>\n",
              "      <td>4.350000</td>\n",
              "      <td>1.300000</td>\n",
              "      <td>1.000000</td>\n",
              "    </tr>\n",
              "    <tr>\n",
              "      <th>75%</th>\n",
              "      <td>6.400000</td>\n",
              "      <td>3.300000</td>\n",
              "      <td>5.100000</td>\n",
              "      <td>1.800000</td>\n",
              "      <td>2.000000</td>\n",
              "    </tr>\n",
              "    <tr>\n",
              "      <th>max</th>\n",
              "      <td>7.900000</td>\n",
              "      <td>4.400000</td>\n",
              "      <td>6.900000</td>\n",
              "      <td>2.500000</td>\n",
              "      <td>2.000000</td>\n",
              "    </tr>\n",
              "  </tbody>\n",
              "</table>\n",
              "</div>\n",
              "      <button class=\"colab-df-convert\" onclick=\"convertToInteractive('df-e0ac04b4-dd78-4a3d-883d-a13b87050529')\"\n",
              "              title=\"Convert this dataframe to an interactive table.\"\n",
              "              style=\"display:none;\">\n",
              "        \n",
              "  <svg xmlns=\"http://www.w3.org/2000/svg\" height=\"24px\"viewBox=\"0 0 24 24\"\n",
              "       width=\"24px\">\n",
              "    <path d=\"M0 0h24v24H0V0z\" fill=\"none\"/>\n",
              "    <path d=\"M18.56 5.44l.94 2.06.94-2.06 2.06-.94-2.06-.94-.94-2.06-.94 2.06-2.06.94zm-11 1L8.5 8.5l.94-2.06 2.06-.94-2.06-.94L8.5 2.5l-.94 2.06-2.06.94zm10 10l.94 2.06.94-2.06 2.06-.94-2.06-.94-.94-2.06-.94 2.06-2.06.94z\"/><path d=\"M17.41 7.96l-1.37-1.37c-.4-.4-.92-.59-1.43-.59-.52 0-1.04.2-1.43.59L10.3 9.45l-7.72 7.72c-.78.78-.78 2.05 0 2.83L4 21.41c.39.39.9.59 1.41.59.51 0 1.02-.2 1.41-.59l7.78-7.78 2.81-2.81c.8-.78.8-2.07 0-2.86zM5.41 20L4 18.59l7.72-7.72 1.47 1.35L5.41 20z\"/>\n",
              "  </svg>\n",
              "      </button>\n",
              "      \n",
              "  <style>\n",
              "    .colab-df-container {\n",
              "      display:flex;\n",
              "      flex-wrap:wrap;\n",
              "      gap: 12px;\n",
              "    }\n",
              "\n",
              "    .colab-df-convert {\n",
              "      background-color: #E8F0FE;\n",
              "      border: none;\n",
              "      border-radius: 50%;\n",
              "      cursor: pointer;\n",
              "      display: none;\n",
              "      fill: #1967D2;\n",
              "      height: 32px;\n",
              "      padding: 0 0 0 0;\n",
              "      width: 32px;\n",
              "    }\n",
              "\n",
              "    .colab-df-convert:hover {\n",
              "      background-color: #E2EBFA;\n",
              "      box-shadow: 0px 1px 2px rgba(60, 64, 67, 0.3), 0px 1px 3px 1px rgba(60, 64, 67, 0.15);\n",
              "      fill: #174EA6;\n",
              "    }\n",
              "\n",
              "    [theme=dark] .colab-df-convert {\n",
              "      background-color: #3B4455;\n",
              "      fill: #D2E3FC;\n",
              "    }\n",
              "\n",
              "    [theme=dark] .colab-df-convert:hover {\n",
              "      background-color: #434B5C;\n",
              "      box-shadow: 0px 1px 3px 1px rgba(0, 0, 0, 0.15);\n",
              "      filter: drop-shadow(0px 1px 2px rgba(0, 0, 0, 0.3));\n",
              "      fill: #FFFFFF;\n",
              "    }\n",
              "  </style>\n",
              "\n",
              "      <script>\n",
              "        const buttonEl =\n",
              "          document.querySelector('#df-e0ac04b4-dd78-4a3d-883d-a13b87050529 button.colab-df-convert');\n",
              "        buttonEl.style.display =\n",
              "          google.colab.kernel.accessAllowed ? 'block' : 'none';\n",
              "\n",
              "        async function convertToInteractive(key) {\n",
              "          const element = document.querySelector('#df-e0ac04b4-dd78-4a3d-883d-a13b87050529');\n",
              "          const dataTable =\n",
              "            await google.colab.kernel.invokeFunction('convertToInteractive',\n",
              "                                                     [key], {});\n",
              "          if (!dataTable) return;\n",
              "\n",
              "          const docLinkHtml = 'Like what you see? Visit the ' +\n",
              "            '<a target=\"_blank\" href=https://colab.research.google.com/notebooks/data_table.ipynb>data table notebook</a>'\n",
              "            + ' to learn more about interactive tables.';\n",
              "          element.innerHTML = '';\n",
              "          dataTable['output_type'] = 'display_data';\n",
              "          await google.colab.output.renderOutput(dataTable, element);\n",
              "          const docLink = document.createElement('div');\n",
              "          docLink.innerHTML = docLinkHtml;\n",
              "          element.appendChild(docLink);\n",
              "        }\n",
              "      </script>\n",
              "    </div>\n",
              "  </div>\n",
              "  "
            ],
            "text/plain": [
              "       sepal.length  sepal.width  petal.length  petal.width     variety\n",
              "count    150.000000   150.000000    150.000000   150.000000  150.000000\n",
              "mean       5.843333     3.057333      3.758000     1.199333    1.000000\n",
              "std        0.828066     0.435866      1.765298     0.762238    0.819232\n",
              "min        4.300000     2.000000      1.000000     0.100000    0.000000\n",
              "25%        5.100000     2.800000      1.600000     0.300000    0.000000\n",
              "50%        5.800000     3.000000      4.350000     1.300000    1.000000\n",
              "75%        6.400000     3.300000      5.100000     1.800000    2.000000\n",
              "max        7.900000     4.400000      6.900000     2.500000    2.000000"
            ]
          },
          "execution_count": 34,
          "metadata": {},
          "output_type": "execute_result"
        }
      ],
      "source": [
        "df_iris.describe()"
      ]
    },
    {
      "cell_type": "markdown",
      "metadata": {
        "id": "vy-62jMqA28B"
      },
      "source": [
        "Tạo 2 bảng mới. Bảng df_X chứa 4 cột (sepal.length, sepal.width, petal.length, petal.width) là bảng chứa các đặc trưng cho mô hình của chúng ta. Bảng df_y có 1 cột (variety) là bảng chứa giá trị nhãn mà chúng ta muốn dự đoán (0 cho setosa, 1 cho versicolor và 2 cho virginica)."
      ]
    },
    {
      "cell_type": "code",
      "execution_count": 35,
      "metadata": {
        "colab": {
          "base_uri": "https://localhost:8080/"
        },
        "id": "eCiCOjEP-e5R",
        "outputId": "56253444-1972-424c-e587-32b76e07285a"
      },
      "outputs": [
        {
          "name": "stdout",
          "output_type": "stream",
          "text": [
            "Top 5 rows of df_X table: \n",
            "   sepal.length  sepal.width  petal.length  petal.width\n",
            "0           5.1          3.5           1.4          0.2\n",
            "1           4.9          3.0           1.4          0.2\n",
            "2           4.7          3.2           1.3          0.2\n",
            "3           4.6          3.1           1.5          0.2\n",
            "4           5.0          3.6           1.4          0.2\n",
            "Top 5 rows of df_y table: \n",
            "   variety\n",
            "0        0\n",
            "1        0\n",
            "2        0\n",
            "3        0\n",
            "4        0\n"
          ]
        }
      ],
      "source": [
        "df_X = df_iris.filter(['sepal.length','sepal.width','petal.length','petal.width'],axis = 1)\n",
        "df_y = df_iris.filter(['variety'])\n",
        "print('Top 5 rows of df_X table: \\n{}'.format(df_X.head()))\n",
        "print('Top 5 rows of df_y table: \\n{}'.format(df_y.head()))"
      ]
    },
    {
      "cell_type": "markdown",
      "metadata": {
        "id": "nZnYGiQCB8BB"
      },
      "source": [
        "Bây giờ chúng ta sẽ convert 2 bảng df_X và df_y thành các vector X và y cho việc tính toán bằng hàm to_numpy()."
      ]
    },
    {
      "cell_type": "code",
      "execution_count": 36,
      "metadata": {
        "colab": {
          "base_uri": "https://localhost:8080/"
        },
        "id": "QB9usZ00BJmC",
        "outputId": "780c14a0-3eb6-4a3d-9f82-02fa9ea66b65"
      },
      "outputs": [
        {
          "name": "stdout",
          "output_type": "stream",
          "text": [
            "[[5.1 3.5 1.4 0.2]\n",
            " [4.9 3.  1.4 0.2]\n",
            " [4.7 3.2 1.3 0.2]\n",
            " [4.6 3.1 1.5 0.2]\n",
            " [5.  3.6 1.4 0.2]\n",
            " [5.4 3.9 1.7 0.4]\n",
            " [4.6 3.4 1.4 0.3]\n",
            " [5.  3.4 1.5 0.2]\n",
            " [4.4 2.9 1.4 0.2]\n",
            " [4.9 3.1 1.5 0.1]\n",
            " [5.4 3.7 1.5 0.2]\n",
            " [4.8 3.4 1.6 0.2]\n",
            " [4.8 3.  1.4 0.1]\n",
            " [4.3 3.  1.1 0.1]\n",
            " [5.8 4.  1.2 0.2]\n",
            " [5.7 4.4 1.5 0.4]\n",
            " [5.4 3.9 1.3 0.4]\n",
            " [5.1 3.5 1.4 0.3]\n",
            " [5.7 3.8 1.7 0.3]\n",
            " [5.1 3.8 1.5 0.3]\n",
            " [5.4 3.4 1.7 0.2]\n",
            " [5.1 3.7 1.5 0.4]\n",
            " [4.6 3.6 1.  0.2]\n",
            " [5.1 3.3 1.7 0.5]\n",
            " [4.8 3.4 1.9 0.2]\n",
            " [5.  3.  1.6 0.2]\n",
            " [5.  3.4 1.6 0.4]\n",
            " [5.2 3.5 1.5 0.2]\n",
            " [5.2 3.4 1.4 0.2]\n",
            " [4.7 3.2 1.6 0.2]\n",
            " [4.8 3.1 1.6 0.2]\n",
            " [5.4 3.4 1.5 0.4]\n",
            " [5.2 4.1 1.5 0.1]\n",
            " [5.5 4.2 1.4 0.2]\n",
            " [4.9 3.1 1.5 0.2]\n",
            " [5.  3.2 1.2 0.2]\n",
            " [5.5 3.5 1.3 0.2]\n",
            " [4.9 3.6 1.4 0.1]\n",
            " [4.4 3.  1.3 0.2]\n",
            " [5.1 3.4 1.5 0.2]\n",
            " [5.  3.5 1.3 0.3]\n",
            " [4.5 2.3 1.3 0.3]\n",
            " [4.4 3.2 1.3 0.2]\n",
            " [5.  3.5 1.6 0.6]\n",
            " [5.1 3.8 1.9 0.4]\n",
            " [4.8 3.  1.4 0.3]\n",
            " [5.1 3.8 1.6 0.2]\n",
            " [4.6 3.2 1.4 0.2]\n",
            " [5.3 3.7 1.5 0.2]\n",
            " [5.  3.3 1.4 0.2]\n",
            " [7.  3.2 4.7 1.4]\n",
            " [6.4 3.2 4.5 1.5]\n",
            " [6.9 3.1 4.9 1.5]\n",
            " [5.5 2.3 4.  1.3]\n",
            " [6.5 2.8 4.6 1.5]\n",
            " [5.7 2.8 4.5 1.3]\n",
            " [6.3 3.3 4.7 1.6]\n",
            " [4.9 2.4 3.3 1. ]\n",
            " [6.6 2.9 4.6 1.3]\n",
            " [5.2 2.7 3.9 1.4]\n",
            " [5.  2.  3.5 1. ]\n",
            " [5.9 3.  4.2 1.5]\n",
            " [6.  2.2 4.  1. ]\n",
            " [6.1 2.9 4.7 1.4]\n",
            " [5.6 2.9 3.6 1.3]\n",
            " [6.7 3.1 4.4 1.4]\n",
            " [5.6 3.  4.5 1.5]\n",
            " [5.8 2.7 4.1 1. ]\n",
            " [6.2 2.2 4.5 1.5]\n",
            " [5.6 2.5 3.9 1.1]\n",
            " [5.9 3.2 4.8 1.8]\n",
            " [6.1 2.8 4.  1.3]\n",
            " [6.3 2.5 4.9 1.5]\n",
            " [6.1 2.8 4.7 1.2]\n",
            " [6.4 2.9 4.3 1.3]\n",
            " [6.6 3.  4.4 1.4]\n",
            " [6.8 2.8 4.8 1.4]\n",
            " [6.7 3.  5.  1.7]\n",
            " [6.  2.9 4.5 1.5]\n",
            " [5.7 2.6 3.5 1. ]\n",
            " [5.5 2.4 3.8 1.1]\n",
            " [5.5 2.4 3.7 1. ]\n",
            " [5.8 2.7 3.9 1.2]\n",
            " [6.  2.7 5.1 1.6]\n",
            " [5.4 3.  4.5 1.5]\n",
            " [6.  3.4 4.5 1.6]\n",
            " [6.7 3.1 4.7 1.5]\n",
            " [6.3 2.3 4.4 1.3]\n",
            " [5.6 3.  4.1 1.3]\n",
            " [5.5 2.5 4.  1.3]\n",
            " [5.5 2.6 4.4 1.2]\n",
            " [6.1 3.  4.6 1.4]\n",
            " [5.8 2.6 4.  1.2]\n",
            " [5.  2.3 3.3 1. ]\n",
            " [5.6 2.7 4.2 1.3]\n",
            " [5.7 3.  4.2 1.2]\n",
            " [5.7 2.9 4.2 1.3]\n",
            " [6.2 2.9 4.3 1.3]\n",
            " [5.1 2.5 3.  1.1]\n",
            " [5.7 2.8 4.1 1.3]\n",
            " [6.3 3.3 6.  2.5]\n",
            " [5.8 2.7 5.1 1.9]\n",
            " [7.1 3.  5.9 2.1]\n",
            " [6.3 2.9 5.6 1.8]\n",
            " [6.5 3.  5.8 2.2]\n",
            " [7.6 3.  6.6 2.1]\n",
            " [4.9 2.5 4.5 1.7]\n",
            " [7.3 2.9 6.3 1.8]\n",
            " [6.7 2.5 5.8 1.8]\n",
            " [7.2 3.6 6.1 2.5]\n",
            " [6.5 3.2 5.1 2. ]\n",
            " [6.4 2.7 5.3 1.9]\n",
            " [6.8 3.  5.5 2.1]\n",
            " [5.7 2.5 5.  2. ]\n",
            " [5.8 2.8 5.1 2.4]\n",
            " [6.4 3.2 5.3 2.3]\n",
            " [6.5 3.  5.5 1.8]\n",
            " [7.7 3.8 6.7 2.2]\n",
            " [7.7 2.6 6.9 2.3]\n",
            " [6.  2.2 5.  1.5]\n",
            " [6.9 3.2 5.7 2.3]\n",
            " [5.6 2.8 4.9 2. ]\n",
            " [7.7 2.8 6.7 2. ]\n",
            " [6.3 2.7 4.9 1.8]\n",
            " [6.7 3.3 5.7 2.1]\n",
            " [7.2 3.2 6.  1.8]\n",
            " [6.2 2.8 4.8 1.8]\n",
            " [6.1 3.  4.9 1.8]\n",
            " [6.4 2.8 5.6 2.1]\n",
            " [7.2 3.  5.8 1.6]\n",
            " [7.4 2.8 6.1 1.9]\n",
            " [7.9 3.8 6.4 2. ]\n",
            " [6.4 2.8 5.6 2.2]\n",
            " [6.3 2.8 5.1 1.5]\n",
            " [6.1 2.6 5.6 1.4]\n",
            " [7.7 3.  6.1 2.3]\n",
            " [6.3 3.4 5.6 2.4]\n",
            " [6.4 3.1 5.5 1.8]\n",
            " [6.  3.  4.8 1.8]\n",
            " [6.9 3.1 5.4 2.1]\n",
            " [6.7 3.1 5.6 2.4]\n",
            " [6.9 3.1 5.1 2.3]\n",
            " [5.8 2.7 5.1 1.9]\n",
            " [6.8 3.2 5.9 2.3]\n",
            " [6.7 3.3 5.7 2.5]\n",
            " [6.7 3.  5.2 2.3]\n",
            " [6.3 2.5 5.  1.9]\n",
            " [6.5 3.  5.2 2. ]\n",
            " [6.2 3.4 5.4 2.3]\n",
            " [5.9 3.  5.1 1.8]]\n",
            "[[0]\n",
            " [0]\n",
            " [0]\n",
            " [0]\n",
            " [0]\n",
            " [0]\n",
            " [0]\n",
            " [0]\n",
            " [0]\n",
            " [0]\n",
            " [0]\n",
            " [0]\n",
            " [0]\n",
            " [0]\n",
            " [0]\n",
            " [0]\n",
            " [0]\n",
            " [0]\n",
            " [0]\n",
            " [0]\n",
            " [0]\n",
            " [0]\n",
            " [0]\n",
            " [0]\n",
            " [0]\n",
            " [0]\n",
            " [0]\n",
            " [0]\n",
            " [0]\n",
            " [0]\n",
            " [0]\n",
            " [0]\n",
            " [0]\n",
            " [0]\n",
            " [0]\n",
            " [0]\n",
            " [0]\n",
            " [0]\n",
            " [0]\n",
            " [0]\n",
            " [0]\n",
            " [0]\n",
            " [0]\n",
            " [0]\n",
            " [0]\n",
            " [0]\n",
            " [0]\n",
            " [0]\n",
            " [0]\n",
            " [0]\n",
            " [1]\n",
            " [1]\n",
            " [1]\n",
            " [1]\n",
            " [1]\n",
            " [1]\n",
            " [1]\n",
            " [1]\n",
            " [1]\n",
            " [1]\n",
            " [1]\n",
            " [1]\n",
            " [1]\n",
            " [1]\n",
            " [1]\n",
            " [1]\n",
            " [1]\n",
            " [1]\n",
            " [1]\n",
            " [1]\n",
            " [1]\n",
            " [1]\n",
            " [1]\n",
            " [1]\n",
            " [1]\n",
            " [1]\n",
            " [1]\n",
            " [1]\n",
            " [1]\n",
            " [1]\n",
            " [1]\n",
            " [1]\n",
            " [1]\n",
            " [1]\n",
            " [1]\n",
            " [1]\n",
            " [1]\n",
            " [1]\n",
            " [1]\n",
            " [1]\n",
            " [1]\n",
            " [1]\n",
            " [1]\n",
            " [1]\n",
            " [1]\n",
            " [1]\n",
            " [1]\n",
            " [1]\n",
            " [1]\n",
            " [1]\n",
            " [2]\n",
            " [2]\n",
            " [2]\n",
            " [2]\n",
            " [2]\n",
            " [2]\n",
            " [2]\n",
            " [2]\n",
            " [2]\n",
            " [2]\n",
            " [2]\n",
            " [2]\n",
            " [2]\n",
            " [2]\n",
            " [2]\n",
            " [2]\n",
            " [2]\n",
            " [2]\n",
            " [2]\n",
            " [2]\n",
            " [2]\n",
            " [2]\n",
            " [2]\n",
            " [2]\n",
            " [2]\n",
            " [2]\n",
            " [2]\n",
            " [2]\n",
            " [2]\n",
            " [2]\n",
            " [2]\n",
            " [2]\n",
            " [2]\n",
            " [2]\n",
            " [2]\n",
            " [2]\n",
            " [2]\n",
            " [2]\n",
            " [2]\n",
            " [2]\n",
            " [2]\n",
            " [2]\n",
            " [2]\n",
            " [2]\n",
            " [2]\n",
            " [2]\n",
            " [2]\n",
            " [2]\n",
            " [2]\n",
            " [2]]\n"
          ]
        }
      ],
      "source": [
        "X = df_X.to_numpy()\n",
        "y = df_y.to_numpy()\n",
        "print(X)\n",
        "print(y)"
      ]
    },
    {
      "cell_type": "code",
      "execution_count": 37,
      "metadata": {
        "colab": {
          "base_uri": "https://localhost:8080/"
        },
        "id": "IxDiWIbRC-p2",
        "outputId": "4c9f5c39-d75c-4350-b320-868f405d2670"
      },
      "outputs": [
        {
          "name": "stdout",
          "output_type": "stream",
          "text": [
            "Shape of X: (150, 4)\n",
            "Shape of y: (150, 1)\n"
          ]
        }
      ],
      "source": [
        "print('Shape of X:', X.shape)\n",
        "print('Shape of y:', y.shape)"
      ]
    },
    {
      "cell_type": "markdown",
      "metadata": {
        "id": "Q8u6cYwdDw4J"
      },
      "source": [
        "Shape của X là (150,4) có nghĩa là ma trận X có 150 chiều (dimension) và mỗi chiều có 4 phần tử (elements)"
      ]
    },
    {
      "cell_type": "markdown",
      "metadata": {
        "id": "mWltIXksD-Yq"
      },
      "source": [
        "Chúng ta có thể in ra khoảng giá trị min-max của các đặc trưng. Mục đích của việc này không chỉ là để có thêm thông tin, mà mục đích của chúng ta khi làm bước này là để xem giá trị của các đặc trưng có chung độ lớn hay không. Nếu giá trị của các đặc trưng không đều nhau, ví dụ đặc trưng 1 có giá trị từ 1-10, đặc trưng 2 có giá trị từ 1 triệu đến 10 triệu thì mô hình học máy của chúng ta sẽ bị bias do sự khác biệt này. Nếu xảy ra điều này thì chúng ta cần làm một bước gọi là normalization cho các đặc trưng."
      ]
    },
    {
      "cell_type": "code",
      "execution_count": 38,
      "metadata": {
        "colab": {
          "base_uri": "https://localhost:8080/"
        },
        "id": "D0eSdzyrDUTa",
        "outputId": "54d7b2e4-02cb-42a3-d6dc-a953c99a7dcb"
      },
      "outputs": [
        {
          "name": "stdout",
          "output_type": "stream",
          "text": [
            "Sepal Length min: 4.3, max: 7.9\n",
            "Sepal Width min: 2.0, max: 4.4\n",
            "Petal Length min: 1.0, max: 6.9\n",
            "Petal Width min: 0.1, max: 2.5\n"
          ]
        }
      ],
      "source": [
        "print('Sepal Length min: {}, max: {}'.format(np.min(X[:,0]), np.max(X[:,0]))) \n",
        "print('Sepal Width min: {}, max: {}'.format(np.min(X[:,1]), np.max(X[:,1]))) \n",
        "print('Petal Length min: {}, max: {}'.format(np.min(X[:,2]), np.max(X[:,2]))) \n",
        "print('Petal Width min: {}, max: {}'.format(np.min(X[:,3]), np.max(X[:,3]))) "
      ]
    },
    {
      "cell_type": "markdown",
      "metadata": {
        "id": "Tcze96gbE6md"
      },
      "source": [
        "Chúng ta thấy giá trị của 4 đặc trưng trong bài toán không quá chênh lệch. Do vậy chúng ta không cần phải normalize data trong trường hợp này."
      ]
    },
    {
      "cell_type": "markdown",
      "metadata": {
        "id": "XAA2HrFQFHQB"
      },
      "source": [
        "Chia dữ liệu thành thành 2 bộ dữ liệu khác nhau: train set và test set. Bộ dữ liệu test có độ lớn bằng 20% bộ dữ liệu gốc. Sau đó in shape của từng bộ dữ liệu để kiểm tra."
      ]
    },
    {
      "cell_type": "code",
      "execution_count": 39,
      "metadata": {
        "colab": {
          "base_uri": "https://localhost:8080/"
        },
        "id": "iWGkVF5SEVUN",
        "outputId": "7d16cd93-fa58-43f8-f97b-54ef730a407c"
      },
      "outputs": [
        {
          "name": "stdout",
          "output_type": "stream",
          "text": [
            "Shape of X train (120, 4)\n",
            "Shape of y train (120, 1)\n",
            "Shape of X test (30, 4)\n",
            "Shape of y test (30, 1)\n"
          ]
        }
      ],
      "source": [
        "from sklearn.model_selection import train_test_split\n",
        "X_train, X_test, y_train, y_test = train_test_split(X, y, test_size=0.2, shuffle=True, random_state=1612)\n",
        "print('Shape of X train', X_train.shape)\n",
        "print('Shape of y train', y_train.shape)\n",
        "print('Shape of X test', X_test.shape)\n",
        "print('Shape of y test', y_test.shape)"
      ]
    },
    {
      "cell_type": "markdown",
      "metadata": {
        "id": "_3Mg2PPpFfS0"
      },
      "source": [
        "Như vậy chúng ta đã chia bộ dữ liệu thành 4 tập con khác nhau: X_train, y_train, X_test, y_test."
      ]
    },
    {
      "cell_type": "code",
      "execution_count": 41,
      "metadata": {
        "colab": {
          "base_uri": "https://localhost:8080/"
        },
        "id": "AAfoFOEfA0DK",
        "outputId": "ff8bea3b-e280-4b68-99a0-13fc5e9ec8f2"
      },
      "outputs": [
        {
          "name": "stdout",
          "output_type": "stream",
          "text": [
            "y train: [[0]\n",
            " [1]\n",
            " [0]\n",
            " [2]\n",
            " [2]\n",
            " [1]\n",
            " [0]\n",
            " [1]\n",
            " [0]\n",
            " [1]\n",
            " [2]\n",
            " [1]\n",
            " [0]\n",
            " [1]\n",
            " [1]\n",
            " [1]\n",
            " [1]\n",
            " [0]\n",
            " [1]\n",
            " [1]\n",
            " [0]\n",
            " [2]\n",
            " [1]\n",
            " [2]\n",
            " [1]\n",
            " [1]\n",
            " [2]\n",
            " [2]\n",
            " [2]\n",
            " [1]\n",
            " [2]\n",
            " [0]\n",
            " [1]\n",
            " [0]\n",
            " [2]\n",
            " [2]\n",
            " [0]\n",
            " [2]\n",
            " [1]\n",
            " [1]\n",
            " [1]\n",
            " [0]\n",
            " [0]\n",
            " [0]\n",
            " [2]\n",
            " [1]\n",
            " [0]\n",
            " [2]\n",
            " [1]\n",
            " [1]\n",
            " [1]\n",
            " [0]\n",
            " [2]\n",
            " [0]\n",
            " [0]\n",
            " [2]\n",
            " [0]\n",
            " [0]\n",
            " [1]\n",
            " [1]\n",
            " [1]\n",
            " [0]\n",
            " [1]\n",
            " [2]\n",
            " [0]\n",
            " [1]\n",
            " [0]\n",
            " [2]\n",
            " [0]\n",
            " [1]\n",
            " [1]\n",
            " [1]\n",
            " [1]\n",
            " [2]\n",
            " [0]\n",
            " [1]\n",
            " [1]\n",
            " [2]\n",
            " [0]\n",
            " [0]\n",
            " [2]\n",
            " [0]\n",
            " [1]\n",
            " [0]\n",
            " [0]\n",
            " [2]\n",
            " [2]\n",
            " [0]\n",
            " [0]\n",
            " [0]\n",
            " [2]\n",
            " [1]\n",
            " [2]\n",
            " [1]\n",
            " [1]\n",
            " [1]\n",
            " [1]\n",
            " [2]\n",
            " [0]\n",
            " [0]\n",
            " [0]\n",
            " [2]\n",
            " [2]\n",
            " [2]\n",
            " [2]\n",
            " [2]\n",
            " [2]\n",
            " [2]\n",
            " [2]\n",
            " [1]\n",
            " [2]\n",
            " [1]\n",
            " [0]\n",
            " [2]\n",
            " [0]\n",
            " [2]\n",
            " [1]\n",
            " [2]\n",
            " [2]\n",
            " [0]]\n"
          ]
        }
      ],
      "source": [
        "print(f'y train: {y_train}')"
      ]
    },
    {
      "cell_type": "markdown",
      "metadata": {
        "id": "-Mpn6o1uF8nj"
      },
      "source": [
        "Tiếp theo, chúng ta cần chuyển shape của y_train và y_test thành một mảng đơn với lệnh reshape(-1)"
      ]
    },
    {
      "cell_type": "code",
      "execution_count": 43,
      "metadata": {
        "colab": {
          "base_uri": "https://localhost:8080/"
        },
        "id": "KiQYZeTRO7ff",
        "outputId": "56db8a2f-b510-4b8d-dd5c-f6e2ca112413"
      },
      "outputs": [
        {
          "name": "stdout",
          "output_type": "stream",
          "text": [
            "Shape of y train (120,)\n",
            "Shape of y test (30,)\n"
          ]
        }
      ],
      "source": [
        "y_test = y_test.reshape(-1)\n",
        "y_train = y_train.reshape(-1)\n",
        "print('Shape of y train', y_train.shape)\n",
        "print('Shape of y test', y_test.shape)"
      ]
    },
    {
      "cell_type": "code",
      "execution_count": 44,
      "metadata": {
        "colab": {
          "base_uri": "https://localhost:8080/"
        },
        "id": "ExCRBeQYA-H7",
        "outputId": "00e91958-590b-434d-fedd-f749c21cd847"
      },
      "outputs": [
        {
          "name": "stdout",
          "output_type": "stream",
          "text": [
            "y_train: [0 1 0 2 2 1 0 1 0 1 2 1 0 1 1 1 1 0 1 1 0 2 1 2 1 1 2 2 2 1 2 0 1 0 2 2 0\n",
            " 2 1 1 1 0 0 0 2 1 0 2 1 1 1 0 2 0 0 2 0 0 1 1 1 0 1 2 0 1 0 2 0 1 1 1 1 2\n",
            " 0 1 1 2 0 0 2 0 1 0 0 2 2 0 0 0 2 1 2 1 1 1 1 2 0 0 0 2 2 2 2 2 2 2 2 1 2\n",
            " 1 0 2 0 2 1 2 2 0]\n"
          ]
        }
      ],
      "source": [
        "print(f'y_train: {y_train}')"
      ]
    },
    {
      "cell_type": "markdown",
      "metadata": {
        "id": "xtiTxl5MGe75"
      },
      "source": [
        "Sử dụng mô hình LogisticRegression trong thư viện sklearn cho bài toán của chúng ta và huấn luyện mô hình bằng hàm fit(X_train, y_train). Đặt tên cho mô hình được huấn luyện là multi_model"
      ]
    },
    {
      "cell_type": "code",
      "execution_count": 45,
      "metadata": {
        "colab": {
          "base_uri": "https://localhost:8080/"
        },
        "id": "axW5JryzGgBU",
        "outputId": "98b2af57-fb1f-47b4-9c71-de179153e7bf"
      },
      "outputs": [
        {
          "name": "stdout",
          "output_type": "stream",
          "text": [
            "LogisticRegression(C=10.0, max_iter=10000)\n"
          ]
        }
      ],
      "source": [
        "from sklearn.linear_model import LogisticRegression\n",
        "\n",
        "# Set regularization rate\n",
        "reg = 0.1\n",
        "\n",
        "# train a logistic regression model on the training set\n",
        "multi_model = LogisticRegression(C=1/reg, solver='lbfgs', multi_class='auto', max_iter=10000).fit(X_train, y_train)\n",
        "print (multi_model)\n"
      ]
    },
    {
      "cell_type": "markdown",
      "metadata": {
        "id": "C4TJPJKuHH5x"
      },
      "source": [
        "Sử dụng mô hình multi_model đã được huấn luyện để dự đoán nhãn cho 15 dữ liệu đầu tiên trong bộ test. Kết quả không tệ, chỉ 1 dữ liệu có nhãn dự đoán là không trùng khớp với nhãn test."
      ]
    },
    {
      "cell_type": "code",
      "execution_count": 46,
      "metadata": {
        "colab": {
          "base_uri": "https://localhost:8080/"
        },
        "id": "PmOd0gZSHKlV",
        "outputId": "56692648-893f-4264-8b45-ab32d28f379c"
      },
      "outputs": [
        {
          "name": "stdout",
          "output_type": "stream",
          "text": [
            "Predicted labels:  [2 2 0 0 0 1 1 0 1 2 0 2 0 1 2]\n",
            "Actual labels   :  [2 2 0 0 0 1 2 0 1 2 0 2 0 1 2]\n"
          ]
        }
      ],
      "source": [
        "predictions = multi_model.predict(X_test)\n",
        "print('Predicted labels: ', predictions[:15])\n",
        "print('Actual labels   : ' ,y_test[:15])"
      ]
    },
    {
      "cell_type": "markdown",
      "metadata": {
        "id": "re9bC-XAHpfM"
      },
      "source": [
        "Sử dụng thư viện classification_report để kiểm tra xem mô hình đã huấn luyện của chúng ta tốt đến mức nào. Với mô hình này thì độ chính xác trung bình là 97% có thể xem là mô hình khá tốt."
      ]
    },
    {
      "cell_type": "code",
      "execution_count": 47,
      "metadata": {
        "colab": {
          "base_uri": "https://localhost:8080/"
        },
        "id": "UUkNnbL6I5du",
        "outputId": "0743ebc6-30f5-44af-f0e7-62a87c56b2a8"
      },
      "outputs": [
        {
          "name": "stdout",
          "output_type": "stream",
          "text": [
            "              precision    recall  f1-score   support\n",
            "\n",
            "           0       1.00      1.00      1.00        12\n",
            "           1       0.88      1.00      0.93         7\n",
            "           2       1.00      0.91      0.95        11\n",
            "\n",
            "    accuracy                           0.97        30\n",
            "   macro avg       0.96      0.97      0.96        30\n",
            "weighted avg       0.97      0.97      0.97        30\n",
            "\n"
          ]
        }
      ],
      "source": [
        "from sklearn. metrics import classification_report\n",
        "\n",
        "print(classification_report(y_test, predictions))"
      ]
    },
    {
      "cell_type": "markdown",
      "metadata": {
        "id": "U9Ffgdx2IRJA"
      },
      "source": [
        "Chúng ta có thể xem giá trị trung bình của Accuracy, Precision và Recall như bên dưới."
      ]
    },
    {
      "cell_type": "code",
      "execution_count": 48,
      "metadata": {
        "colab": {
          "base_uri": "https://localhost:8080/"
        },
        "id": "31Q91rUenygP",
        "outputId": "c54b482a-14c3-46e6-b5ee-50966cf03c46"
      },
      "outputs": [
        {
          "name": "stdout",
          "output_type": "stream",
          "text": [
            "Overall Accuracy: 0.9666666666666667\n",
            "Overall Precision: 0.9583333333333334\n",
            "Overall Recall: 0.9696969696969697\n"
          ]
        }
      ],
      "source": [
        "from sklearn.metrics import accuracy_score, precision_score, recall_score\n",
        "\n",
        "print(\"Overall Accuracy:\",accuracy_score(y_test, predictions))\n",
        "print(\"Overall Precision:\",precision_score(y_test, predictions, average='macro'))\n",
        "print(\"Overall Recall:\",recall_score(y_test, predictions, average='macro'))"
      ]
    },
    {
      "cell_type": "markdown",
      "metadata": {
        "id": "c7L3XfxqIjSB"
      },
      "source": [
        "Sử dụng confusion_matrix cũng là một cách khá hay để trực quan hoá kết quả dự đoán cho bộ test từ mô hình. Kết quả bên dưới cho thấy mô hình của chúng ta dự đoán chính xác 12/12 cho loại hoa Setosa, trong 8 giá trị cho loại hoa Versicolor thì mô hình dự đoán đúng nhãn 7 giá trị, giá trị còn lại bị đoán nhầm thành Virginica. Đối với 10 giá trị của hoa Virginaca trong bộ test thì mô hình dự đoán đúng cả 10."
      ]
    },
    {
      "cell_type": "code",
      "execution_count": 49,
      "metadata": {
        "colab": {
          "base_uri": "https://localhost:8080/"
        },
        "id": "GKluVcH0oFse",
        "outputId": "d3a53438-2d95-4f49-b77f-6151ed06cf90"
      },
      "outputs": [
        {
          "name": "stdout",
          "output_type": "stream",
          "text": [
            "[[12  0  0]\n",
            " [ 0  7  0]\n",
            " [ 0  1 10]]\n"
          ]
        }
      ],
      "source": [
        "from sklearn.metrics import confusion_matrix\n",
        "\n",
        "# Print the confusion matrix\n",
        "mcm = confusion_matrix(y_test, predictions)\n",
        "print(mcm)"
      ]
    },
    {
      "cell_type": "markdown",
      "metadata": {
        "id": "v7zySN-3Jd5w"
      },
      "source": [
        "Với những bài toán phức tạp hơn thì chúng ta có thể dùng thư viện pylot để trực quan hoá tốt hơn như ví dụ bên dưới."
      ]
    },
    {
      "cell_type": "code",
      "execution_count": 50,
      "metadata": {
        "colab": {
          "base_uri": "https://localhost:8080/",
          "height": 315
        },
        "id": "8JDlyD3toPSz",
        "outputId": "fe16b503-bd62-43fa-bf25-3e0157c91e1f"
      },
      "outputs": [
        {
          "data": {
            "image/png": "[encoded data removed]",
            "text/plain": [
              "<Figure size 432x288 with 2 Axes>"
            ]
          },
          "metadata": {
            "needs_background": "light"
          },
          "output_type": "display_data"
        }
      ],
      "source": [
        "import numpy as np\n",
        "import matplotlib.pyplot as plt\n",
        "%matplotlib inline\n",
        "\n",
        "\n",
        "\n",
        "plt.imshow(mcm, interpolation=\"nearest\", cmap=plt.cm.Blues)\n",
        "plt.colorbar()\n",
        "tick_marks = np.arange(len(iris_classes))\n",
        "plt.xticks(tick_marks, iris_classes, rotation=45)\n",
        "plt.yticks(tick_marks, iris_classes)\n",
        "plt.xlabel(\"Predicted Species\")\n",
        "plt.ylabel(\"Actual Species\")\n",
        "plt.show()"
      ]
    },
    {
      "cell_type": "markdown",
      "metadata": {
        "id": "g7V_uDcxJpWJ"
      },
      "source": [
        "Kiểm tra giá trị của đường AUC."
      ]
    },
    {
      "cell_type": "code",
      "execution_count": 51,
      "metadata": {
        "id": "xLC6c6Rgps0e"
      },
      "outputs": [],
      "source": [
        "# Get class probability scores\n",
        "iris_prob = multi_model.predict_proba(X_test)"
      ]
    },
    {
      "cell_type": "code",
      "execution_count": 52,
      "metadata": {
        "colab": {
          "base_uri": "https://localhost:8080/"
        },
        "id": "fhyVnFl7p0dj",
        "outputId": "5d7dee48-7bed-4cc4-8541-48622d5f217a"
      },
      "outputs": [
        {
          "name": "stdout",
          "output_type": "stream",
          "text": [
            "Average AUC: 1.0\n"
          ]
        }
      ],
      "source": [
        "from sklearn.metrics import roc_curve\n",
        "from sklearn.metrics import roc_auc_score\n",
        "\n",
        "auc = roc_auc_score(y_test,iris_prob, multi_class='ovr')\n",
        "print('Average AUC:', auc)"
      ]
    },
    {
      "cell_type": "markdown",
      "metadata": {
        "id": "8ZSo8T2HJudI"
      },
      "source": [
        "Sau khi đã có được một mô hình học máy khá tốt, chúng ta sẽ lưu lại mô hình này với tên iris_model.pkl và sử dụng file pickle này cho production."
      ]
    },
    {
      "cell_type": "code",
      "execution_count": 53,
      "metadata": {
        "colab": {
          "base_uri": "https://localhost:8080/"
        },
        "id": "2qG8AklPqcmd",
        "outputId": "94cf76c0-4e8d-4cc9-e289-23aaed1e8376"
      },
      "outputs": [
        {
          "data": {
            "text/plain": [
              "['/content/iris_model.pkl']"
            ]
          },
          "execution_count": 53,
          "metadata": {},
          "output_type": "execute_result"
        }
      ],
      "source": [
        "import joblib\n",
        "\n",
        "# Save the model as a pickle file\n",
        "filename = '/content/iris_model.pkl'\n",
        "joblib.dump(multi_model, filename)\n"
      ]
    },
    {
      "cell_type": "code",
      "execution_count": 54,
      "metadata": {
        "colab": {
          "base_uri": "https://localhost:8080/"
        },
        "id": "H0UgbWOcrEZf",
        "outputId": "57c7cd84-6ea5-4642-d7cd-9c756a68cb84"
      },
      "outputs": [
        {
          "name": "stdout",
          "output_type": "stream",
          "text": [
            "New sample: [1 2 3 4]\n",
            "Predicted class is Virginica\n"
          ]
        }
      ],
      "source": [
        "# Tải file pickle mà chúng ta đã lưu\n",
        "multi_model = joblib.load(filename)\n",
        "\n",
        "#Khởi tạo một array mới x_new với 4 đại lượng đặc trưng. Chúng ta muốn mô hình dự đoán liệu x_new sẽ thuộc loại hoa nào\n",
        "x_new = np.array([[1,2,3,4]])\n",
        "print ('New sample: {}'.format(x_new[0]))\n",
        "\n",
        "#Mô hình dự đoán sẽ trả về một mảng, chúng ta chỉ lấy giá trị đầu tiên của mảng, sau đó map với list iris_classes để lấy chính xác tên loài hoa\n",
        "iris_pred = multi_model.predict(x_new)[0]\n",
        "print('Predicted class is', iris_classes[iris_pred])"
      ]
    },
    {
      "cell_type": "code",
      "execution_count": 55,
      "metadata": {
        "colab": {
          "base_uri": "https://localhost:8080/"
        },
        "id": "A8vMYqtt4kO8",
        "outputId": "ffada181-a234-43eb-ce9c-d22ba90b281d"
      },
      "outputs": [
        {
          "data": {
            "text/plain": [
              "array([2])"
            ]
          },
          "execution_count": 55,
          "metadata": {},
          "output_type": "execute_result"
        }
      ],
      "source": [
        "multi_model.predict(x_new)"
      ]
    },
    {
      "cell_type": "code",
      "execution_count": 56,
      "metadata": {
        "colab": {
          "base_uri": "https://localhost:8080/"
        },
        "id": "sZgJsFUTrrtt",
        "outputId": "4b476ed1-fe8f-4616-cc9e-964ca43dfb26"
      },
      "outputs": [
        {
          "name": "stdout",
          "output_type": "stream",
          "text": [
            "New samples:\n",
            "[[1.  2.  3.  4. ]\n",
            " [5.1 3.5 0.4 1.2]]\n",
            "2 (Virginica)\n",
            "0 (Setosa)\n"
          ]
        }
      ],
      "source": [
        "# This time our input is an array of two feature arrays\n",
        "x_new = np.array([[1,2,3,4],\n",
        "         [5.1,3.5,0.4,1.2]])\n",
        "print ('New samples:\\n{}'.format(x_new))\n",
        "\n",
        "# Call the web service, passing the input data\n",
        "predictions = multi_model.predict(x_new)\n",
        "\n",
        "# Get the predicted classes.\n",
        "for prediction in predictions:\n",
        "    print(prediction, '(' + iris_classes[prediction] +')')"
      ]
    }
  ],
  "metadata": {
    "colab": {
      "collapsed_sections": [],
      "name": "IRIS_Classification_Vietnamese.ipynb",
      "provenance": []
    },
    "kernelspec": {
      "display_name": "Python 3",
      "name": "python3"
    },
    "language_info": {
      "name": "python"
    }
  },
  "nbformat": 4,
  "nbformat_minor": 0
}
